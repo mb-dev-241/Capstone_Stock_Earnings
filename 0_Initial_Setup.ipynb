{
 "cells": [
  {
   "cell_type": "markdown",
   "id": "fcfb669f-0803-4960-8b3d-f2a1ce3e501f",
   "metadata": {},
   "source": [
    "#### Initial Setup of Project Directories"
   ]
  },
  {
   "cell_type": "markdown",
   "id": "ea43eef8-a7eb-4a42-b8cd-759b489fbf1b",
   "metadata": {},
   "source": [
    "1. Download [motley fool earnings call transcripts](https://www.kaggle.com/datasets/tpotterer/motley-fool-scraped-earnings-call-transcripts/data) to /data directory\n",
    "2. Download [finbert python class](https://github.com/ProsusAI/finBERT/archive/refs/heads/master.zip)  to /finbert directory"
   ]
  },
  {
   "cell_type": "code",
   "execution_count": null,
   "id": "cec85a33-8454-496b-a486-d6077888a1a5",
   "metadata": {},
   "outputs": [],
   "source": []
  }
 ],
 "metadata": {
  "kernelspec": {
   "display_name": "Python 3 (ipykernel)",
   "language": "python",
   "name": "python3"
  },
  "language_info": {
   "codemirror_mode": {
    "name": "ipython",
    "version": 3
   },
   "file_extension": ".py",
   "mimetype": "text/x-python",
   "name": "python",
   "nbconvert_exporter": "python",
   "pygments_lexer": "ipython3",
   "version": "3.11.5"
  }
 },
 "nbformat": 4,
 "nbformat_minor": 5
}
