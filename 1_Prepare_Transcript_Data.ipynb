{
 "cells": [
  {
   "cell_type": "markdown",
   "id": "19bde067-11b5-4cb7-a4e9-9a174ed0262d",
   "metadata": {},
   "source": [
    "# Prepare Transcripts\n",
    "\n",
    "This notebook uses the initial dataset of earnings call transcripts to clean up data errors and prepare for further processing. Earnings call transcripts were downloaded manually as described in our Initial Setup module. \n",
    "\n",
    "Note: the initial dataset of earnings calls is not included in this github repo due to size constraints. Anyone wanting to duplicate our results will need to perform the download manually in their own environment."
   ]
  },
  {
   "cell_type": "code",
   "execution_count": 1,
   "id": "9ff020f8-0399-4971-9fca-5c676592fb23",
   "metadata": {},
   "outputs": [],
   "source": [
    "import numpy as np\n",
    "import pandas as pd\n",
    "import datetime\n",
    "import re\n",
    "import yfinance as yf\n",
    "import os, contextlib"
   ]
  },
  {
   "cell_type": "code",
   "execution_count": 2,
   "id": "9e800f62-590e-406f-8d4e-57cf36853d84",
   "metadata": {},
   "outputs": [
    {
     "name": "stdout",
     "output_type": "stream",
     "text": [
      "<class 'pandas.core.frame.DataFrame'>\n",
      "RangeIndex: 18755 entries, 0 to 18754\n",
      "Data columns (total 5 columns):\n",
      " #   Column      Non-Null Count  Dtype \n",
      "---  ------      --------------  ----- \n",
      " 0   date        18755 non-null  object\n",
      " 1   exchange    18755 non-null  object\n",
      " 2   q           18755 non-null  object\n",
      " 3   ticker      18755 non-null  object\n",
      " 4   transcript  18755 non-null  object\n",
      "dtypes: object(5)\n",
      "memory usage: 732.7+ KB\n"
     ]
    }
   ],
   "source": [
    "trsc = pd.read_pickle('data/motley-fool-data.pkl.bz2')\n",
    "trsc.info()"
   ]
  },
  {
   "cell_type": "code",
   "execution_count": 3,
   "id": "9ca4c579-1956-422e-9605-f0d29a0abf40",
   "metadata": {},
   "outputs": [
    {
     "data": {
      "text/html": [
       "<div>\n",
       "<style scoped>\n",
       "    .dataframe tbody tr th:only-of-type {\n",
       "        vertical-align: middle;\n",
       "    }\n",
       "\n",
       "    .dataframe tbody tr th {\n",
       "        vertical-align: top;\n",
       "    }\n",
       "\n",
       "    .dataframe thead th {\n",
       "        text-align: right;\n",
       "    }\n",
       "</style>\n",
       "<table border=\"1\" class=\"dataframe\">\n",
       "  <thead>\n",
       "    <tr style=\"text-align: right;\">\n",
       "      <th></th>\n",
       "      <th>date</th>\n",
       "      <th>exchange</th>\n",
       "      <th>q</th>\n",
       "      <th>ticker</th>\n",
       "      <th>transcript</th>\n",
       "    </tr>\n",
       "  </thead>\n",
       "  <tbody>\n",
       "    <tr>\n",
       "      <th>0</th>\n",
       "      <td>Aug 27, 2020, 9:00 p.m. ET</td>\n",
       "      <td>NASDAQ: BILI</td>\n",
       "      <td>2020-Q2</td>\n",
       "      <td>BILI</td>\n",
       "      <td>Prepared Remarks:\\nOperator\\nGood day, and wel...</td>\n",
       "    </tr>\n",
       "    <tr>\n",
       "      <th>1</th>\n",
       "      <td>Jul 30, 2020, 4:30 p.m. ET</td>\n",
       "      <td>NYSE: GFF</td>\n",
       "      <td>2020-Q3</td>\n",
       "      <td>GFF</td>\n",
       "      <td>Prepared Remarks:\\nOperator\\nThank you for sta...</td>\n",
       "    </tr>\n",
       "    <tr>\n",
       "      <th>2</th>\n",
       "      <td>Oct 23, 2019, 5:00 p.m. ET</td>\n",
       "      <td>NASDAQ: LRCX</td>\n",
       "      <td>2020-Q1</td>\n",
       "      <td>LRCX</td>\n",
       "      <td>Prepared Remarks:\\nOperator\\nGood day and welc...</td>\n",
       "    </tr>\n",
       "    <tr>\n",
       "      <th>3</th>\n",
       "      <td>Nov 6, 2019, 12:00 p.m. ET</td>\n",
       "      <td>NASDAQ: BBSI</td>\n",
       "      <td>2019-Q3</td>\n",
       "      <td>BBSI</td>\n",
       "      <td>Prepared Remarks:\\nOperator\\nGood day, everyon...</td>\n",
       "    </tr>\n",
       "    <tr>\n",
       "      <th>4</th>\n",
       "      <td>Aug 7, 2019, 8:30 a.m. ET</td>\n",
       "      <td>NASDAQ: CSTE</td>\n",
       "      <td>2019-Q2</td>\n",
       "      <td>CSTE</td>\n",
       "      <td>Prepared Remarks:\\nOperator\\nGreetings and wel...</td>\n",
       "    </tr>\n",
       "  </tbody>\n",
       "</table>\n",
       "</div>"
      ],
      "text/plain": [
       "                         date      exchange        q ticker  \\\n",
       "0  Aug 27, 2020, 9:00 p.m. ET  NASDAQ: BILI  2020-Q2   BILI   \n",
       "1  Jul 30, 2020, 4:30 p.m. ET     NYSE: GFF  2020-Q3    GFF   \n",
       "2  Oct 23, 2019, 5:00 p.m. ET  NASDAQ: LRCX  2020-Q1   LRCX   \n",
       "3  Nov 6, 2019, 12:00 p.m. ET  NASDAQ: BBSI  2019-Q3   BBSI   \n",
       "4   Aug 7, 2019, 8:30 a.m. ET  NASDAQ: CSTE  2019-Q2   CSTE   \n",
       "\n",
       "                                          transcript  \n",
       "0  Prepared Remarks:\\nOperator\\nGood day, and wel...  \n",
       "1  Prepared Remarks:\\nOperator\\nThank you for sta...  \n",
       "2  Prepared Remarks:\\nOperator\\nGood day and welc...  \n",
       "3  Prepared Remarks:\\nOperator\\nGood day, everyon...  \n",
       "4  Prepared Remarks:\\nOperator\\nGreetings and wel...  "
      ]
     },
     "execution_count": 3,
     "metadata": {},
     "output_type": "execute_result"
    }
   ],
   "source": [
    "trsc.head()"
   ]
  },
  {
   "cell_type": "code",
   "execution_count": 4,
   "id": "bda1e5f6-bb5a-4389-9638-15f9073a60ba",
   "metadata": {},
   "outputs": [
    {
     "data": {
      "text/plain": [
       "ticker\n",
       "AAPL     62\n",
       "GOOGL    58\n",
       "TSLA     52\n",
       "AMZN     39\n",
       "DIS      38\n",
       "         ..\n",
       "BAND      1\n",
       "GLS       1\n",
       "GLUU      1\n",
       "MESA      1\n",
       "MRLN      1\n",
       "Name: count, Length: 2876, dtype: int64"
      ]
     },
     "execution_count": 4,
     "metadata": {},
     "output_type": "execute_result"
    }
   ],
   "source": [
    "trsc.value_counts('ticker')"
   ]
  },
  {
   "cell_type": "code",
   "execution_count": 5,
   "id": "1d57fdbd-18de-4349-a4ad-3c61741b2b63",
   "metadata": {},
   "outputs": [
    {
     "data": {
      "text/plain": [
       "q\n",
       "2017-Q3       1\n",
       "2017-Q4      15\n",
       "2018-Q1       7\n",
       "2018-Q2      16\n",
       "2018-Q3      84\n",
       "2018-Q4     179\n",
       "2019-Q1     253\n",
       "2019-Q2     383\n",
       "2019-Q3     482\n",
       "2019-Q4     429\n",
       "2020-Q1     774\n",
       "2020-Q2     894\n",
       "2020-Q3     791\n",
       "2020-Q4    2065\n",
       "2021-Q1    2191\n",
       "2021-Q2    2400\n",
       "2021-Q3    2439\n",
       "2021-Q4    1450\n",
       "2022-Q1    1348\n",
       "2022-Q2    1288\n",
       "2022-Q3     646\n",
       "2022-Q4     335\n",
       "2023-Q1     157\n",
       "2023-Q2      90\n",
       "2023-Q3      38\n",
       "Name: count, dtype: int64"
      ]
     },
     "execution_count": 5,
     "metadata": {},
     "output_type": "execute_result"
    }
   ],
   "source": [
    "trsc.value_counts('q').sort_index()"
   ]
  },
  {
   "cell_type": "code",
   "execution_count": 6,
   "id": "13cbc8f8-182a-445c-b7b3-f5067b0ec644",
   "metadata": {},
   "outputs": [],
   "source": [
    "# fix date column\n",
    "drop_rows = []\n",
    "for index, row in trsc.iterrows():\n",
    "    if type(row['date']) != type(''):\n",
    "        if len(row['date']) < 2:\n",
    "            drop_rows.append(index)\n",
    "            continue\n",
    "        row['date'] = row['date'][1]\n",
    "\n",
    "    if len(row['date']) < 15: \n",
    "        drop_rows.append(index)\n",
    "        continue\n",
    "\n",
    "    row['date'] = re.sub(r'(\\d{4})[^,]', r'\\1, ', row['date'])\n",
    "    row['date'] = re.sub('\\.', '', row['date'])\n",
    "    row['date'] = row['date'].strip()\n",
    "    row['date'] = re.sub(r'^(\\w{3})\\w+', r'\\1', row['date'])\n",
    "\n",
    "    if not re.search(r'^\\w{3} \\d+, \\d{4}, \\d+:\\d{2} [ap]m \\w{2}', row['date']):\n",
    "        drop_rows.append(index)\n",
    "        continue\n",
    "\n",
    "    if not re.search(r'^(Jan|Feb|Mar|Apr|May|Jun|Jul|Aug|Sep|Oct|Nov|Dec)', row['date']):\n",
    "        drop_rows.append(index)\n",
    "        continue\n",
    "\n",
    "#print(drop_rows)"
   ]
  },
  {
   "cell_type": "code",
   "execution_count": 7,
   "id": "0b987918-e561-48bf-90cd-f192565775a6",
   "metadata": {},
   "outputs": [],
   "source": [
    "# drop rows with poorly formatted dates\n",
    "for i in drop_rows:\n",
    "    trsc.drop(i, inplace=True)"
   ]
  },
  {
   "cell_type": "code",
   "execution_count": 8,
   "id": "642e53bd-bdc4-42d3-8999-525a84145038",
   "metadata": {},
   "outputs": [],
   "source": [
    "# fix exchange column\n",
    "drop_rows = []\n",
    "for index, row in trsc.iterrows():\n",
    "    matchObj = re.search(r'(\\w+)\\s*:\\s*([\\w\\.]+)', row['exchange'])\n",
    "    if matchObj:\n",
    "        exch = matchObj.group(1)\n",
    "        tick = matchObj.group(2)\n",
    "    else:\n",
    "        print(row['exchange'])\n",
    "\n",
    "    row['exchange'] = exch.lower()\n",
    "\n",
    "    # drop exchanges with no data, keep NYSE/NASDAQ only\n",
    "    if not re.search(r'^(NYSE|NASDAQ)$', row['exchange'], re.I):\n",
    "        drop_rows.append(index)\n",
    "        continue\n",
    "\n",
    "    row['ticker'] = re.sub(r'\\.', r'\\-', row['ticker'])\n",
    "    row['ticker'] = re.sub(r'[^\\w\\-]', '', row['ticker'])\n",
    "    row['ticker'] = row['ticker'].lower()"
   ]
  },
  {
   "cell_type": "code",
   "execution_count": 9,
   "id": "4d38f5cd-9adc-4073-b015-e891e5004744",
   "metadata": {},
   "outputs": [],
   "source": [
    "# drop rows with non-NYSE/NASDAQ exchanges\n",
    "for i in drop_rows:\n",
    "    trsc.drop(i, inplace=True)"
   ]
  },
  {
   "cell_type": "code",
   "execution_count": 10,
   "id": "29141675-74eb-44c8-a7c7-39e113923973",
   "metadata": {},
   "outputs": [],
   "source": [
    "trsc.rename(columns={'date': 'olddate'}, inplace=True)"
   ]
  },
  {
   "cell_type": "code",
   "execution_count": 11,
   "id": "b2d15e82-6d87-4718-aab6-6705a5c42bc9",
   "metadata": {},
   "outputs": [],
   "source": [
    "# extract AM/PM and timezone information\n",
    "trsc['date'] = trsc['olddate'].str.extract(r'^(.*[pa]m)\\s+')\n",
    "trsc['tz'] = trsc['olddate'].str.extract(r'^.*[pa]m\\s+(.*)')\n",
    "trsc.drop(columns=['olddate'], inplace=True)"
   ]
  },
  {
   "cell_type": "code",
   "execution_count": 12,
   "id": "9332cdda-b301-44fa-80fc-f380260ebf05",
   "metadata": {},
   "outputs": [],
   "source": [
    "# reformat date column as a datetime\n",
    "trsc['date'] = pd.to_datetime(trsc['date'], format='%b %d, %Y, %I:%M %p')"
   ]
  },
  {
   "cell_type": "code",
   "execution_count": 13,
   "id": "10a30706-fa64-44e5-b81f-2676482346b9",
   "metadata": {},
   "outputs": [],
   "source": [
    "# identify companies holding earnings calls when markets are closed\n",
    "trsc = trsc.assign(market_open=False)\n",
    "for index, row in trsc.iterrows():\n",
    "    h = row['date'].hour\n",
    "    m = row['date'].minute\n",
    "    d = row['date'].dayofweek\n",
    "    if ((((h == 9) and (m >= 30)) or (h > 9)) and (h < 16)) and ((d >= 1) and (d <= 5)):\n",
    "        #market_open = True\n",
    "        trsc.loc[index, 'market_open'] = True"
   ]
  },
  {
   "cell_type": "code",
   "execution_count": 14,
   "id": "306b192b-1a00-451d-a4e2-6a5d63ed52f7",
   "metadata": {},
   "outputs": [],
   "source": [
    "# only keep companies holding earnings calls when markets are closed\n",
    "# daily ohlc data only supports analysis on calls happening afterhours\n",
    "trsc = trsc.query('market_open == False')"
   ]
  },
  {
   "cell_type": "code",
   "execution_count": 16,
   "id": "062091eb-9fb2-46bc-8332-18fe2436ca99",
   "metadata": {},
   "outputs": [
    {
     "name": "stdout",
     "output_type": "stream",
     "text": [
      "<class 'pandas.core.frame.DataFrame'>\n",
      "Index: 13337 entries, 0 to 18754\n",
      "Data columns (total 7 columns):\n",
      " #   Column       Non-Null Count  Dtype         \n",
      "---  ------       --------------  -----         \n",
      " 0   exchange     13337 non-null  object        \n",
      " 1   q            13337 non-null  object        \n",
      " 2   ticker       13337 non-null  object        \n",
      " 3   transcript   13337 non-null  object        \n",
      " 4   date         13337 non-null  datetime64[ns]\n",
      " 5   tz           13337 non-null  object        \n",
      " 6   market_open  13337 non-null  bool          \n",
      "dtypes: bool(1), datetime64[ns](1), object(5)\n",
      "memory usage: 742.4+ KB\n"
     ]
    }
   ],
   "source": [
    "trsc.info()"
   ]
  },
  {
   "cell_type": "code",
   "execution_count": 15,
   "id": "bfd1cde8-ab81-4655-95cc-0e936a5f538d",
   "metadata": {},
   "outputs": [],
   "source": [
    "trsc.to_pickle('data/transcript_df.pkl.bz2')"
   ]
  },
  {
   "cell_type": "code",
   "execution_count": null,
   "id": "97b07fd3-a64e-420d-916c-0238a83d4a7b",
   "metadata": {},
   "outputs": [],
   "source": []
  },
  {
   "cell_type": "code",
   "execution_count": null,
   "id": "46c90634-37f1-4525-92c5-964d20adace4",
   "metadata": {},
   "outputs": [],
   "source": []
  },
  {
   "cell_type": "code",
   "execution_count": null,
   "id": "33b93d16-6c67-4657-89b8-d93b59ca326e",
   "metadata": {},
   "outputs": [],
   "source": []
  },
  {
   "cell_type": "code",
   "execution_count": null,
   "id": "4abe326c-017f-4e49-bebe-c65cff2d065e",
   "metadata": {},
   "outputs": [],
   "source": []
  }
 ],
 "metadata": {
  "kernelspec": {
   "display_name": "Python 3 (ipykernel)",
   "language": "python",
   "name": "python3"
  },
  "language_info": {
   "codemirror_mode": {
    "name": "ipython",
    "version": 3
   },
   "file_extension": ".py",
   "mimetype": "text/x-python",
   "name": "python",
   "nbconvert_exporter": "python",
   "pygments_lexer": "ipython3",
   "version": "3.11.5"
  }
 },
 "nbformat": 4,
 "nbformat_minor": 5
}
